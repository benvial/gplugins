{
 "cells": [
  {
   "cell_type": "markdown",
   "id": "0",
   "metadata": {},
   "source": [
    "# Path-length Analysis\n",
    "This notebook demonstrates how to extract path-length and curvature from layout components."
   ]
  },
  {
   "cell_type": "markdown",
   "id": "1",
   "metadata": {},
   "source": [
    "## Extract Path-length and Curvature from Components\n",
    "\n",
    "In this section, we'll extract the centerline from components and compute key metrics:\n",
    "\n",
    "- Path-length between ports\n",
    "- Minimum radius of curvature, $R$\n",
    "- Maximum curvature (radius⁻¹), $\\kappa = \\frac{1}{R}$\n",
    "\n",
    "For details on the curvature calculation, see Ref.$~${cite:p}`weisstein_radius`."
   ]
  },
  {
   "cell_type": "code",
   "execution_count": null,
   "id": "2",
   "metadata": {
    "lines_to_next_cell": 2,
    "tags": [
     "hide-input"
    ]
   },
   "outputs": [],
   "source": [
    "from IPython.display import display\n",
    "import gdsfactory as gf\n",
    "import matplotlib.pyplot as plt\n",
    "import textwrap\n",
    "\n",
    "from gplugins.path_length_analysis.path_length_analysis_from_gds import (\n",
    "    extract_paths,\n",
    "    get_min_radius_and_length_path_dict,\n",
    "    plot_curvature,\n",
    ")"
   ]
  },
  {
   "cell_type": "markdown",
   "id": "3",
   "metadata": {},
   "source": [
    "### Basic Example: Circular Bend\n",
    "\n",
    "We start with a simple circular bend component to demonstrate the process."
   ]
  },
  {
   "cell_type": "code",
   "execution_count": null,
   "id": "4",
   "metadata": {},
   "outputs": [],
   "source": [
    "c = gf.components.bend_circular()\n",
    "path_dict, ev_path_dict = extract_paths(c, plot=True)\n",
    "r_and_l_dict = get_min_radius_and_length_path_dict(path_dict)\n",
    "for ports, (min_radius, length) in r_and_l_dict.items():\n",
    "    print(\n",
    "        textwrap.dedent(\n",
    "            f\"\"\"\n",
    "            Ports: {ports}\n",
    "            Maximum curvature: {1 / min_radius:.2f}\n",
    "            Minimum radius of curvature: {min_radius:.2f}\n",
    "            Length: {length:.2f}\n",
    "            \"\"\"\n",
    "        )\n",
    "    )\n",
    "    fig = plot_curvature(path_dict[ports])\n",
    "    plt.show()\n",
    "display(c.info)\n",
    "difference_in_min_radius = abs(c.info[\"radius\"] - min_radius) / c.info[\"radius\"]\n",
    "print(f\"Relative difference in min radius: {difference_in_min_radius:.2%}\")"
   ]
  },
  {
   "cell_type": "markdown",
   "id": "5",
   "metadata": {},
   "source": [
    "## Results for Different Number of Points\n",
    "\n",
    "The accuracy of curvature calculations depends on the number of points used to define the component.\n",
    "Here, we show an Euler bend with varying number of polygon points (10, 50, 100 points) to observe how\n",
    "the calculated metrics change.\n",
    "\n",
    "The smooth curvature transition of Euler bends should be better captured with higher point counts."
   ]
  },
  {
   "cell_type": "code",
   "execution_count": null,
   "id": "6",
   "metadata": {},
   "outputs": [],
   "source": [
    "for npoints in [10, 50, 100]:\n",
    "    c = gf.components.bend_euler(npoints=npoints)\n",
    "    path_dict, ev_path_dict = extract_paths(c, plot=True)\n",
    "    r_and_l_dict = get_min_radius_and_length_path_dict(path_dict)\n",
    "    for ports, (min_radius, length) in r_and_l_dict.items():\n",
    "        print(\n",
    "            textwrap.dedent(\n",
    "                f\"\"\"\n",
    "                Ports: {ports}\n",
    "                Maximum curvature: {1 / min_radius:.2f}\n",
    "                Minimum radius of curvature: {min_radius:.2f}\n",
    "                Length: {length:.2f}\n",
    "                \"\"\"\n",
    "            )\n",
    "        )\n",
    "        fig = plot_curvature(path_dict[ports])\n",
    "        plt.title(f\"{npoints=}\")\n",
    "        plt.show()\n",
    "    display(c.info)\n",
    "    difference_in_min_radius = (\n",
    "        abs(c.info[\"min_bend_radius\"] - min_radius) / c.info[\"min_bend_radius\"]\n",
    "    )\n",
    "    print(f\"Relative difference in min radius: {difference_in_min_radius:.2%}\")"
   ]
  },
  {
   "cell_type": "markdown",
   "id": "7",
   "metadata": {},
   "source": [
    "## 4-port component: directional Coupler\n",
    "\n",
    "We can also handle components with:\n",
    "\n",
    "- Multiple input/output ports\n",
    "- An evanescent coupling region where light transfers between waveguides\n",
    "\n",
    "The `evanescent_coupling=True` parameter enables analysis of the coupling regions."
   ]
  },
  {
   "cell_type": "code",
   "execution_count": null,
   "id": "8",
   "metadata": {},
   "outputs": [],
   "source": [
    "c = gf.components.coupler()\n",
    "path_dict, ev_path_dict = extract_paths(c, plot=True, evanescent_coupling=True)\n",
    "r_and_l_dict = get_min_radius_and_length_path_dict(path_dict)\n",
    "for ports, (min_radius, length) in r_and_l_dict.items():\n",
    "    print(\n",
    "        textwrap.dedent(\n",
    "            f\"\"\"\n",
    "            Ports: {ports}\n",
    "            Maximum curvature: {1 / min_radius:.2f}\n",
    "            Minimum radius of curvature: {min_radius:.2f}\n",
    "            Length: {length:.2f}\n",
    "            \"\"\"\n",
    "        )\n",
    "    )\n",
    "    fig = plot_curvature(path_dict[ports])\n",
    "    plt.title(f\"Ports: {ports}\")\n",
    "    plt.show()\n",
    "display(c.info)\n",
    "difference_in_min_radius = (\n",
    "    abs(c.info[\"min_bend_radius\"] - min_radius) / c.info[\"min_bend_radius\"]\n",
    ")\n",
    "print(f\"Relative difference in min radius: {difference_in_min_radius:.2%}\")"
   ]
  },
  {
   "cell_type": "markdown",
   "id": "9",
   "metadata": {},
   "source": [
    "## Conclusion\n",
    "\n",
    "This notebook demonstrates how to:\n",
    "\n",
    "1. Extract path information from layout photonic components\n",
    "1. Calculate important metrics (length, curvature)\n",
    "1. Visualize the results\n",
    "\n",
    "## Bibliography\n",
    "```{bibliography}\n",
    ":style: unsrt\n",
    ":filter: docname in docnames\n",
    "```"
   ]
  }
 ],
 "metadata": {
  "jupytext": {
   "cell_metadata_filter": "tags,-all",
   "custom_cell_magics": "kql"
  },
  "kernelspec": {
   "display_name": "base",
   "language": "python",
   "name": "python3"
  }
 },
 "nbformat": 4,
 "nbformat_minor": 5
}
