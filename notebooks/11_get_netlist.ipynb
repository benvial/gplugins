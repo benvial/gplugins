{
 "cells": [
  {
   "cell_type": "markdown",
   "id": "0",
   "metadata": {},
   "source": [
    "# Netlist extractor YAML\n",
    "\n",
    "Any component can extract its netlist with `get_netlist`\n",
    "\n",
    "While `gf.read.from_yaml` converts a `YAML Dict` into a `Component`\n",
    "\n",
    "`get_netlist` converts `Component` into a YAML `Dict`"
   ]
  },
  {
   "cell_type": "code",
   "execution_count": 1,
   "id": "1",
   "metadata": {},
   "outputs": [],
   "source": [
    "import gdsfactory as gf\n",
    "import yaml"
   ]
  },
  {
   "cell_type": "code",
   "execution_count": null,
   "id": "2",
   "metadata": {},
   "outputs": [],
   "source": [
    "c = gf.components.mzi()\n",
    "c.plot()"
   ]
  },
  {
   "cell_type": "code",
   "execution_count": null,
   "id": "3",
   "metadata": {},
   "outputs": [],
   "source": [
    "c.plot_netlist()"
   ]
  },
  {
   "cell_type": "code",
   "execution_count": null,
   "id": "4",
   "metadata": {},
   "outputs": [],
   "source": [
    "c = gf.components.ring_single()\n",
    "c.plot()"
   ]
  },
  {
   "cell_type": "code",
   "execution_count": null,
   "id": "5",
   "metadata": {},
   "outputs": [],
   "source": [
    "c.plot_netlist()"
   ]
  },
  {
   "cell_type": "code",
   "execution_count": null,
   "id": "6",
   "metadata": {},
   "outputs": [],
   "source": [
    "n = c.get_netlist()"
   ]
  },
  {
   "cell_type": "code",
   "execution_count": null,
   "id": "7",
   "metadata": {},
   "outputs": [],
   "source": [
    "netlist_string = c.write_netlist(n)"
   ]
  },
  {
   "cell_type": "code",
   "execution_count": null,
   "id": "8",
   "metadata": {},
   "outputs": [],
   "source": [
    "n = yaml.safe_load(netlist_string)"
   ]
  },
  {
   "cell_type": "code",
   "execution_count": null,
   "id": "9",
   "metadata": {},
   "outputs": [],
   "source": [
    "i = list(n[\"instances\"].keys())\n",
    "i"
   ]
  },
  {
   "cell_type": "code",
   "execution_count": null,
   "id": "10",
   "metadata": {},
   "outputs": [],
   "source": [
    "instance_name0 = i[0]"
   ]
  },
  {
   "cell_type": "code",
   "execution_count": null,
   "id": "11",
   "metadata": {
    "lines_to_next_cell": 2
   },
   "outputs": [],
   "source": [
    "n[\"instances\"][instance_name0][\"settings\"]"
   ]
  },
  {
   "cell_type": "markdown",
   "id": "12",
   "metadata": {
    "lines_to_next_cell": 2
   },
   "source": [
    "## Instance names\n",
    "\n",
    "By default get netlist names each `instance` with the name of the `reference`\n"
   ]
  },
  {
   "cell_type": "code",
   "execution_count": 2,
   "id": "13",
   "metadata": {},
   "outputs": [
    {
     "data": {
      "text/plain": [
       "<networkx.classes.graph.Graph at 0x7f0bdd3b2e90>"
      ]
     },
     "execution_count": 2,
     "metadata": {},
     "output_type": "execute_result"
    },
    {
     "data": {
      "image/png": "[encoded data removed]",
      "text/plain": [
       "<Figure size 640x480 with 1 Axes>"
      ]
     },
     "metadata": {},
     "output_type": "display_data"
    }
   ],
   "source": [
    "@gf.cell\n",
    "def mzi_with_bend_automatic_naming():\n",
    "    c = gf.Component()\n",
    "    mzi = c.add_ref(gf.components.mzi())\n",
    "    bend = c.add_ref(gf.components.bend_euler())\n",
    "    bend.connect(\"o1\", mzi.ports[\"o2\"])\n",
    "    return c\n",
    "\n",
    "\n",
    "c = mzi_with_bend_automatic_naming()\n",
    "c.plot_netlist()"
   ]
  },
  {
   "cell_type": "code",
   "execution_count": 3,
   "id": "14",
   "metadata": {},
   "outputs": [
    {
     "ename": "TypeError",
     "evalue": "Component.add_ref() got an unexpected keyword argument 'alias'",
     "output_type": "error",
     "traceback": [
      "\u001b[0;31m---------------------------------------------------------------------------\u001b[0m",
      "\u001b[0;31mTypeError\u001b[0m                                 Traceback (most recent call last)",
      "Cell \u001b[0;32mIn[3], line 10\u001b[0m\n\u001b[1;32m      6\u001b[0m     bend\u001b[38;5;241m.\u001b[39mconnect(\u001b[38;5;124m\"\u001b[39m\u001b[38;5;124mo1\u001b[39m\u001b[38;5;124m\"\u001b[39m, mzi\u001b[38;5;241m.\u001b[39mports[\u001b[38;5;124m\"\u001b[39m\u001b[38;5;124mo2\u001b[39m\u001b[38;5;124m\"\u001b[39m])\n\u001b[1;32m      7\u001b[0m     \u001b[38;5;28;01mreturn\u001b[39;00m c\n\u001b[0;32m---> 10\u001b[0m c \u001b[38;5;241m=\u001b[39m \u001b[43mmzi_with_bend_deterministic_names_using_alias\u001b[49m\u001b[43m(\u001b[49m\u001b[43m)\u001b[49m\n\u001b[1;32m     11\u001b[0m c\u001b[38;5;241m.\u001b[39mplot_netlist()\n",
      "File \u001b[0;32m~/Developer/gdsfactory/gplugins/.venv/lib/python3.11/site-packages/kfactory/layout.py:852\u001b[0m, in \u001b[0;36mKCLayout.cell.<locals>.decorator_autocell.<locals>.wrapper_autocell\u001b[0;34m(*args, **kwargs)\u001b[0m\n\u001b[1;32m    849\u001b[0m     \u001b[38;5;28;01mreturn\u001b[39;00m output_cell_type(base\u001b[38;5;241m=\u001b[39mcell\u001b[38;5;241m.\u001b[39mbase)\n\u001b[1;32m    851\u001b[0m \u001b[38;5;28;01mwith\u001b[39;00m \u001b[38;5;28mself\u001b[39m\u001b[38;5;241m.\u001b[39mthread_lock:\n\u001b[0;32m--> 852\u001b[0m     cell_ \u001b[38;5;241m=\u001b[39m \u001b[43mwrapped_cell\u001b[49m\u001b[43m(\u001b[49m\u001b[38;5;241;43m*\u001b[39;49m\u001b[38;5;241;43m*\u001b[39;49m\u001b[43mparams\u001b[49m\u001b[43m)\u001b[49m\n\u001b[1;32m    853\u001b[0m     \u001b[38;5;28;01mif\u001b[39;00m cell_\u001b[38;5;241m.\u001b[39mdestroyed():\n\u001b[1;32m    854\u001b[0m         \u001b[38;5;66;03m# If any cell has been destroyed, we should clean up the cache.\u001b[39;00m\n\u001b[1;32m    855\u001b[0m         \u001b[38;5;66;03m# Delete all the KCell entrances in the cache which have\u001b[39;00m\n\u001b[1;32m    856\u001b[0m         \u001b[38;5;66;03m# `destroyed() == True`\u001b[39;00m\n\u001b[1;32m    857\u001b[0m         deleted_cell_hashes: \u001b[38;5;28mlist\u001b[39m[_HashedTuple] \u001b[38;5;241m=\u001b[39m [\n\u001b[1;32m    858\u001b[0m             _hash_item\n\u001b[1;32m    859\u001b[0m             \u001b[38;5;28;01mfor\u001b[39;00m _hash_item, _cell_item \u001b[38;5;129;01min\u001b[39;00m cache_\u001b[38;5;241m.\u001b[39mitems()\n\u001b[1;32m    860\u001b[0m             \u001b[38;5;28;01mif\u001b[39;00m _cell_item\u001b[38;5;241m.\u001b[39mdestroyed()\n\u001b[1;32m    861\u001b[0m         ]\n",
      "File \u001b[0;32m~/Developer/gdsfactory/gplugins/.venv/lib/python3.11/site-packages/cachetools/__init__.py:771\u001b[0m, in \u001b[0;36mcached.<locals>.decorator.<locals>.wrapper\u001b[0;34m(*args, **kwargs)\u001b[0m\n\u001b[1;32m    769\u001b[0m \u001b[38;5;28;01mexcept\u001b[39;00m \u001b[38;5;167;01mKeyError\u001b[39;00m:\n\u001b[1;32m    770\u001b[0m     \u001b[38;5;28;01mpass\u001b[39;00m  \u001b[38;5;66;03m# key not found\u001b[39;00m\n\u001b[0;32m--> 771\u001b[0m v \u001b[38;5;241m=\u001b[39m \u001b[43mfunc\u001b[49m\u001b[43m(\u001b[49m\u001b[38;5;241;43m*\u001b[39;49m\u001b[43margs\u001b[49m\u001b[43m,\u001b[49m\u001b[43m \u001b[49m\u001b[38;5;241;43m*\u001b[39;49m\u001b[38;5;241;43m*\u001b[39;49m\u001b[43mkwargs\u001b[49m\u001b[43m)\u001b[49m\n\u001b[1;32m    772\u001b[0m \u001b[38;5;66;03m# in case of a race, prefer the item already in the cache\u001b[39;00m\n\u001b[1;32m    773\u001b[0m \u001b[38;5;28;01mtry\u001b[39;00m:\n",
      "File \u001b[0;32m~/Developer/gdsfactory/gplugins/.venv/lib/python3.11/site-packages/kfactory/layout.py:702\u001b[0m, in \u001b[0;36mKCLayout.cell.<locals>.decorator_autocell.<locals>.wrapper_autocell.<locals>.wrapped_cell\u001b[0;34m(**params)\u001b[0m\n\u001b[1;32m    700\u001b[0m \u001b[38;5;28;01melse\u001b[39;00m:\n\u001b[1;32m    701\u001b[0m     name_ \u001b[38;5;241m=\u001b[39m \u001b[38;5;28;01mNone\u001b[39;00m\n\u001b[0;32m--> 702\u001b[0m cell \u001b[38;5;241m=\u001b[39m \u001b[43mf\u001b[49m\u001b[43m(\u001b[49m\u001b[38;5;241;43m*\u001b[39;49m\u001b[38;5;241;43m*\u001b[39;49m\u001b[43mparams\u001b[49m\u001b[43m)\u001b[49m  \u001b[38;5;66;03m# type: ignore[call-arg]\u001b[39;00m\n\u001b[1;32m    704\u001b[0m logger\u001b[38;5;241m.\u001b[39mdebug(\u001b[38;5;124m\"\u001b[39m\u001b[38;5;124mConstructed \u001b[39m\u001b[38;5;132;01m{}\u001b[39;00m\u001b[38;5;124m\"\u001b[39m, name_ \u001b[38;5;129;01mor\u001b[39;00m cell\u001b[38;5;241m.\u001b[39mname)\n\u001b[1;32m    706\u001b[0m \u001b[38;5;28;01mif\u001b[39;00m cell\u001b[38;5;241m.\u001b[39mlocked:\n\u001b[1;32m    707\u001b[0m     \u001b[38;5;66;03m# If the cell is locked, it comes from a cache (most likely)\u001b[39;00m\n\u001b[1;32m    708\u001b[0m     \u001b[38;5;66;03m# and should be copied first\u001b[39;00m\n",
      "Cell \u001b[0;32mIn[3], line 4\u001b[0m, in \u001b[0;36mmzi_with_bend_deterministic_names_using_alias\u001b[0;34m()\u001b[0m\n\u001b[1;32m      1\u001b[0m \u001b[38;5;129m@gf\u001b[39m\u001b[38;5;241m.\u001b[39mcell\n\u001b[1;32m      2\u001b[0m \u001b[38;5;28;01mdef\u001b[39;00m\u001b[38;5;250m \u001b[39m\u001b[38;5;21mmzi_with_bend_deterministic_names_using_alias\u001b[39m():\n\u001b[1;32m      3\u001b[0m     c \u001b[38;5;241m=\u001b[39m gf\u001b[38;5;241m.\u001b[39mComponent()\n\u001b[0;32m----> 4\u001b[0m     mzi \u001b[38;5;241m=\u001b[39m \u001b[43mc\u001b[49m\u001b[38;5;241;43m.\u001b[39;49m\u001b[43madd_ref\u001b[49m\u001b[43m(\u001b[49m\u001b[43mgf\u001b[49m\u001b[38;5;241;43m.\u001b[39;49m\u001b[43mcomponents\u001b[49m\u001b[38;5;241;43m.\u001b[39;49m\u001b[43mmzi\u001b[49m\u001b[43m(\u001b[49m\u001b[43m)\u001b[49m\u001b[43m,\u001b[49m\u001b[43m \u001b[49m\u001b[43malias\u001b[49m\u001b[38;5;241;43m=\u001b[39;49m\u001b[38;5;124;43m\"\u001b[39;49m\u001b[38;5;124;43mmy_mzi\u001b[39;49m\u001b[38;5;124;43m\"\u001b[39;49m\u001b[43m)\u001b[49m\n\u001b[1;32m      5\u001b[0m     bend \u001b[38;5;241m=\u001b[39m c\u001b[38;5;241m.\u001b[39madd_ref(gf\u001b[38;5;241m.\u001b[39mcomponents\u001b[38;5;241m.\u001b[39mbend_euler(), alias\u001b[38;5;241m=\u001b[39m\u001b[38;5;124m\"\u001b[39m\u001b[38;5;124mmy_bend\u001b[39m\u001b[38;5;124m\"\u001b[39m)\n\u001b[1;32m      6\u001b[0m     bend\u001b[38;5;241m.\u001b[39mconnect(\u001b[38;5;124m\"\u001b[39m\u001b[38;5;124mo1\u001b[39m\u001b[38;5;124m\"\u001b[39m, mzi\u001b[38;5;241m.\u001b[39mports[\u001b[38;5;124m\"\u001b[39m\u001b[38;5;124mo2\u001b[39m\u001b[38;5;124m\"\u001b[39m])\n",
      "\u001b[0;31mTypeError\u001b[0m: Component.add_ref() got an unexpected keyword argument 'alias'"
     ]
    }
   ],
   "source": [
    "@gf.cell\n",
    "def mzi_with_bend_deterministic_names_using_alias():\n",
    "    c = gf.Component()\n",
    "    mzi = c.add_ref(gf.components.mzi(), name=\"my_mzi\")\n",
    "    bend = c.add_ref(gf.components.bend_euler(), name=\"my_bend\")\n",
    "    bend.connect(\"o1\", mzi.ports[\"o2\"])\n",
    "    return c\n",
    "\n",
    "\n",
    "c = mzi_with_bend_deterministic_names_using_alias()\n",
    "c.plot_netlist()"
   ]
  },
  {
   "cell_type": "code",
   "execution_count": null,
   "id": "15",
   "metadata": {},
   "outputs": [],
   "source": [
    "c = gf.components.mzi()\n",
    "c.plot()"
   ]
  },
  {
   "cell_type": "code",
   "execution_count": null,
   "id": "16",
   "metadata": {},
   "outputs": [],
   "source": [
    "c = gf.components.mzi()\n",
    "n = c.get_netlist()\n",
    "print(c.get_netlist().keys())"
   ]
  },
  {
   "cell_type": "code",
   "execution_count": null,
   "id": "17",
   "metadata": {},
   "outputs": [],
   "source": [
    "c.plot_netlist()"
   ]
  },
  {
   "cell_type": "code",
   "execution_count": null,
   "id": "18",
   "metadata": {
    "lines_to_next_cell": 2
   },
   "outputs": [],
   "source": [
    "n.keys()"
   ]
  },
  {
   "cell_type": "markdown",
   "id": "19",
   "metadata": {
    "lines_to_next_cell": 2
   },
   "source": [
    "## warnings\n",
    "\n",
    "Lets make a connectivity **error**, for example connecting ports on the wrong layer\n"
   ]
  },
  {
   "cell_type": "code",
   "execution_count": null,
   "id": "20",
   "metadata": {},
   "outputs": [],
   "source": [
    "@gf.cell\n",
    "def mmi_with_bend():\n",
    "    c = gf.Component()\n",
    "    mmi = c.add_ref(gf.components.mmi1x2(), name=\"mmi\")\n",
    "    bend = c.add_ref(gf.components.bend_euler(layer=(2, 0)), name=\"bend\")\n",
    "    bend.connect(\"o1\", mmi.ports[\"o2\"], allow_layer_mismatch=True)\n",
    "    return c\n",
    "\n",
    "\n",
    "c = mmi_with_bend()\n",
    "c.plot()"
   ]
  },
  {
   "cell_type": "code",
   "execution_count": null,
   "id": "21",
   "metadata": {},
   "outputs": [],
   "source": [
    "n = c.get_netlist()"
   ]
  },
  {
   "cell_type": "code",
   "execution_count": null,
   "id": "22",
   "metadata": {},
   "outputs": [],
   "source": [
    "print(n[\"warnings\"])"
   ]
  },
  {
   "cell_type": "code",
   "execution_count": null,
   "id": "23",
   "metadata": {},
   "outputs": [],
   "source": [
    "c.plot_netlist()"
   ]
  },
  {
   "cell_type": "markdown",
   "id": "24",
   "metadata": {},
   "source": [
    "## get_netlist_recursive\n",
    "\n",
    "When you do `get_netlist()` for a component it will only show connections for the instances that belong to that component.\n",
    "So despite having a lot of connections, it will show only the meaningful connections for that component.\n",
    "For example, a ring has a ring_coupler. If you want to dig deeper, the connections that made that ring coupler are still available.\n",
    "\n",
    "`get_netlist_recursive()` returns a recursive netlist."
   ]
  },
  {
   "cell_type": "code",
   "execution_count": null,
   "id": "25",
   "metadata": {},
   "outputs": [],
   "source": [
    "c = gf.components.ring_single()\n",
    "c.plot()"
   ]
  },
  {
   "cell_type": "code",
   "execution_count": null,
   "id": "26",
   "metadata": {},
   "outputs": [],
   "source": [
    "c.plot_netlist()"
   ]
  },
  {
   "cell_type": "code",
   "execution_count": null,
   "id": "27",
   "metadata": {},
   "outputs": [],
   "source": [
    "c = gf.components.ring_double()\n",
    "c.plot()"
   ]
  },
  {
   "cell_type": "code",
   "execution_count": null,
   "id": "28",
   "metadata": {},
   "outputs": [],
   "source": [
    "c.plot_netlist()"
   ]
  },
  {
   "cell_type": "code",
   "execution_count": null,
   "id": "29",
   "metadata": {},
   "outputs": [],
   "source": [
    "c = gf.components.mzit()\n",
    "c.plot()"
   ]
  },
  {
   "cell_type": "code",
   "execution_count": null,
   "id": "30",
   "metadata": {},
   "outputs": [],
   "source": [
    "c.plot_netlist()"
   ]
  },
  {
   "cell_type": "code",
   "execution_count": null,
   "id": "31",
   "metadata": {},
   "outputs": [],
   "source": [
    "coupler_lengths = (10, 20, 30)\n",
    "coupler_gaps = (0.1, 0.2, 0.3)\n",
    "delta_lengths = (10, 100)\n",
    "\n",
    "c = gf.components.mzi_lattice(\n",
    "    coupler_lengths=coupler_lengths,\n",
    "    coupler_gaps=coupler_gaps,\n",
    "    delta_lengths=delta_lengths,\n",
    ")\n",
    "c.plot()"
   ]
  },
  {
   "cell_type": "code",
   "execution_count": null,
   "id": "32",
   "metadata": {},
   "outputs": [],
   "source": [
    "c.plot_netlist()"
   ]
  },
  {
   "cell_type": "code",
   "execution_count": null,
   "id": "33",
   "metadata": {},
   "outputs": [],
   "source": [
    "coupler_lengths = (10, 20, 30, 40)\n",
    "coupler_gaps = (0.1, 0.2, 0.4, 0.5)\n",
    "delta_lengths = (10, 100, 200)\n",
    "\n",
    "c = gf.components.mzi_lattice(\n",
    "    coupler_lengths=coupler_lengths,\n",
    "    coupler_gaps=coupler_gaps,\n",
    "    delta_lengths=delta_lengths,\n",
    ")\n",
    "c.plot()"
   ]
  },
  {
   "cell_type": "code",
   "execution_count": null,
   "id": "34",
   "metadata": {},
   "outputs": [],
   "source": [
    "n = c.get_netlist()"
   ]
  },
  {
   "cell_type": "code",
   "execution_count": null,
   "id": "35",
   "metadata": {},
   "outputs": [],
   "source": [
    "c.plot_netlist()"
   ]
  },
  {
   "cell_type": "code",
   "execution_count": null,
   "id": "36",
   "metadata": {},
   "outputs": [],
   "source": [
    "n_recursive = c.get_netlist(recursive=True)"
   ]
  },
  {
   "cell_type": "code",
   "execution_count": null,
   "id": "37",
   "metadata": {},
   "outputs": [],
   "source": [
    "n_recursive.keys()"
   ]
  },
  {
   "cell_type": "markdown",
   "id": "38",
   "metadata": {},
   "source": [
    "Placement information is accumulated, and connections and ports are mapped, respectively, to the ports of the unique instances or the component top level ports. This can be plotted:"
   ]
  },
  {
   "cell_type": "code",
   "execution_count": null,
   "id": "39",
   "metadata": {},
   "outputs": [],
   "source": [
    "c.plot_netlist(with_labels=False)  # labels get cluttered"
   ]
  },
  {
   "cell_type": "markdown",
   "id": "40",
   "metadata": {},
   "source": [
    "## allow_multiple_connections\n",
    "\n",
    "The default `get_netlist` function (also used by default by `get_netlist_recurse` and `get_netlist_flat`) can identify more than two ports sharing the same connection through the `allow_multiple` flag.\n",
    "\n",
    "For instance, consider a resistor network with one shared node:"
   ]
  },
  {
   "cell_type": "code",
   "execution_count": null,
   "id": "41",
   "metadata": {},
   "outputs": [],
   "source": [
    "import gdsfactory as gf\n",
    "\n",
    "vdiv = gf.Component()\n",
    "r1 = vdiv << gf.components.resistance_sheet()\n",
    "r2 = vdiv << gf.components.resistance_sheet()\n",
    "r3 = vdiv << gf.get_component(gf.components.resistance_sheet)\n",
    "r4 = vdiv << gf.get_component(gf.components.resistance_sheet)\n",
    "\n",
    "r1.connect(\"pad2\", r2.ports[\"pad1\"])\n",
    "r3.connect(\"pad1\", r2.ports[\"pad1\"])\n",
    "r4.connect(\"pad2\", r2.ports[\"pad1\"])\n",
    "\n",
    "r4.drotate(90)\n",
    "\n",
    "vdiv.plot()"
   ]
  },
  {
   "cell_type": "code",
   "execution_count": null,
   "id": "42",
   "metadata": {},
   "outputs": [],
   "source": [
    "try:\n",
    "    vdiv.get_netlist()\n",
    "except Exception as exc:\n",
    "    print(exc)"
   ]
  },
  {
   "cell_type": "code",
   "execution_count": null,
   "id": "43",
   "metadata": {},
   "outputs": [],
   "source": [
    "vdiv.get_netlist(allow_multiple=True)"
   ]
  },
  {
   "cell_type": "code",
   "execution_count": null,
   "id": "44",
   "metadata": {},
   "outputs": [],
   "source": []
  }
 ],
 "metadata": {
  "jupytext": {
   "cell_metadata_filter": "-all",
   "main_language": "python",
   "notebook_metadata_filter": "-all"
  },
  "kernelspec": {
   "display_name": "Python 3 (ipykernel)",
   "language": "python",
   "name": "python3"
  },
  "language_info": {
   "codemirror_mode": {
    "name": "ipython",
    "version": 3
   },
   "file_extension": ".py",
   "mimetype": "text/x-python",
   "name": "python",
   "nbconvert_exporter": "python",
   "pygments_lexer": "ipython3",
   "version": "3.11.10"
  }
 },
 "nbformat": 4,
 "nbformat_minor": 5
}
